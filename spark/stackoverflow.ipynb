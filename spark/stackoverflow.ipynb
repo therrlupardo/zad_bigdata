{
 "cells": [
  {
   "cell_type": "markdown",
   "metadata": {},
   "source": [
    "# Stackoverflow"
   ]
  },
  {
   "cell_type": "code",
   "execution_count": null,
   "outputs": [],
   "source": [
    "import findspark\n",
    "findspark.init()"
   ],
   "metadata": {
    "collapsed": false,
    "pycharm": {
     "name": "#%%\n"
    }
   }
  },
  {
   "cell_type": "code",
   "execution_count": 23,
   "metadata": {
    "collapsed": true
   },
   "outputs": [],
   "source": [
    "import pyspark\n",
    "\n",
    "sc = pyspark.SparkContext.getOrCreate()\n",
    "spark = pyspark.SQLContext(sc)"
   ]
  },
  {
   "cell_type": "code",
   "execution_count": 24,
   "metadata": {
    "pycharm": {
     "name": "#%%\n"
    }
   },
   "outputs": [
    {
     "data": {
      "text/plain": [
       "[u'1,100,102,,2,Python',\n",
       " u'2,101,,100,5,',\n",
       " u'2,102,,100,9,',\n",
       " u'2,103,,100,3,',\n",
       " u'1,104,,,2,Python',\n",
       " u'2,105,,104,8,',\n",
       " u'2,106,,104,5,',\n",
       " u'1,200,,,2,C#',\n",
       " u'2,201,,200,5,',\n",
       " u'2,202,,200,1,',\n",
       " u'2,203,,200,8,',\n",
       " u'2,204,,200,8,',\n",
       " u'2,205,,200,8,',\n",
       " u'1,206,,,1,C#',\n",
       " u'2,207,,206,11,',\n",
       " u'2,208,,206,6,',\n",
       " u'1,300,,,9,Java',\n",
       " u'1,301,304,,7,Java',\n",
       " u'2,302,,301,9,',\n",
       " u'2,303,,301,3,',\n",
       " u'2,304,,301,9,',\n",
       " u'1,305,306,,3,Java',\n",
       " u'2,306,,305,5,',\n",
       " u'1,307,309,,3,Java',\n",
       " u'2,308,,307,5,',\n",
       " u'2,309,,307,5,',\n",
       " u'1,400,402,,2,PHP',\n",
       " u'2,401,,400,2,',\n",
       " u'2,402,,400,7,',\n",
       " u'1,403,404,,2,PHP']"
      ]
     },
     "execution_count": 24,
     "metadata": {},
     "output_type": "execute_result"
    }
   ],
   "source": [
    "data = sc.textFile('/user/adampap/stackOverflow/shortStackOverflow.txt')\n",
    "data.take(30)"
   ]
  },
  {
   "cell_type": "code",
   "execution_count": 25,
   "metadata": {
    "pycharm": {
     "name": "#%%\n"
    }
   },
   "outputs": [
    {
     "data": {
      "text/plain": [
       "[(100, (1, 0, True, u'Python')),\n",
       " (100, (0, 1)),\n",
       " (100, (0, 1)),\n",
       " (100, (0, 1)),\n",
       " (104, (1, 0, False, u'Python')),\n",
       " (104, (0, 1)),\n",
       " (104, (0, 1)),\n",
       " (200, (1, 0, False, u'C#')),\n",
       " (200, (0, 1)),\n",
       " (200, (0, 1)),\n",
       " (200, (0, 1)),\n",
       " (200, (0, 1)),\n",
       " (200, (0, 1)),\n",
       " (206, (1, 0, False, u'C#')),\n",
       " (206, (0, 1)),\n",
       " (206, (0, 1)),\n",
       " (300, (1, 0, False, u'Java')),\n",
       " (301, (1, 0, True, u'Java')),\n",
       " (301, (0, 1)),\n",
       " (301, (0, 1)),\n",
       " (301, (0, 1)),\n",
       " (305, (1, 0, True, u'Java')),\n",
       " (305, (0, 1)),\n",
       " (307, (1, 0, True, u'Java')),\n",
       " (307, (0, 1)),\n",
       " (307, (0, 1)),\n",
       " (400, (1, 0, True, u'PHP')),\n",
       " (400, (0, 1)),\n",
       " (400, (0, 1)),\n",
       " (403, (1, 0, True, u'PHP'))]"
      ]
     },
     "execution_count": 25,
     "metadata": {},
     "output_type": "execute_result"
    }
   ],
   "source": [
    "QUESTION = '1'\n",
    "ANSWER = '2'\n",
    "\n",
    "def map_data(line):\n",
    "    type_id, own_id, accepted_answer, parent_id, _, tag = line.split(',')\n",
    "    if type_id == QUESTION:\n",
    "        is_solved = True if accepted_answer else False\n",
    "\n",
    "        return (int(own_id), (1, 0, is_solved, tag))\n",
    "    elif type_id == ANSWER:\n",
    "\n",
    "        return (int(parent_id), (0, 1))\n",
    "\n",
    "data = data.map(lambda x: map_data(x))\n",
    "data.take(30)"
   ]
  },
  {
   "cell_type": "code",
   "execution_count": 26,
   "metadata": {
    "pycharm": {
     "name": "#%%\n"
    }
   },
   "outputs": [
    {
     "data": {
      "text/plain": [
       "[(100, (1, 3, True, u'Python')),\n",
       " (104, (1, 2, False, u'Python')),\n",
       " (300, (1, 0, False, u'Java')),\n",
       " (206, (1, 2, False, u'C#')),\n",
       " (400, (1, 2, True, u'PHP')),\n",
       " (200, (1, 5, False, u'C#')),\n",
       " (305, (1, 1, True, u'Java')),\n",
       " (307, (1, 2, True, u'Java')),\n",
       " (403, (1, 1, True, u'PHP')),\n",
       " (301, (1, 3, True, u'Java'))]"
      ]
     },
     "execution_count": 26,
     "metadata": {},
     "output_type": "execute_result"
    }
   ],
   "source": [
    "def is_question(line):\n",
    "    return len(line) > 2\n",
    "\n",
    "def reduce_by_key(first_line, second_line):\n",
    "    number_of_questions = first_line[0] + second_line[0]\n",
    "    number_of_answers = first_line[1] + second_line[1]\n",
    "    result = (number_of_questions, number_of_answers)\n",
    "    if is_question(first_line):\n",
    "        result = (number_of_questions, number_of_answers, first_line[2], first_line[3])\n",
    "    elif is_question(second_line):\n",
    "        result = (number_of_questions, number_of_answers, second_line[2], second_line[3])\n",
    "    return result\n",
    "\n",
    "data = data.reduceByKey(lambda x, y: reduce_by_key(x, y))\n",
    "data.take(30)"
   ]
  },
  {
   "cell_type": "code",
   "execution_count": 27,
   "metadata": {
    "pycharm": {
     "name": "#%%\n"
    }
   },
   "outputs": [
    {
     "data": {
      "text/plain": [
       "[((u'Python', True), 3),\n",
       " ((u'Python', False), 2),\n",
       " ((u'Java', False), 0),\n",
       " ((u'C#', False), 2),\n",
       " ((u'PHP', True), 2),\n",
       " ((u'C#', False), 5),\n",
       " ((u'Java', True), 1),\n",
       " ((u'Java', True), 2),\n",
       " ((u'PHP', True), 1),\n",
       " ((u'Java', True), 3)]"
      ]
     },
     "execution_count": 27,
     "metadata": {},
     "output_type": "execute_result"
    }
   ],
   "source": [
    "def map_questions(value):\n",
    "    _, number_of_answers, is_solved, tag = value\n",
    "    return ((tag, is_solved), number_of_answers)\n",
    "\n",
    "data = data.map(lambda x: map_questions(x[1]))\n",
    "data.take(30)"
   ]
  },
  {
   "cell_type": "code",
   "execution_count": 28,
   "metadata": {
    "pycharm": {
     "name": "#%%\n"
    }
   },
   "outputs": [
    {
     "data": {
      "text/plain": [
       "[((u'C#', False), (7, 2)),\n",
       " ((u'Python', False), (2, 1)),\n",
       " ((u'PHP', True), (3, 2)),\n",
       " ((u'Java', False), (0, 1)),\n",
       " ((u'Python', True), (3, 1)),\n",
       " ((u'Java', True), (6, 3))]"
      ]
     },
     "execution_count": 28,
     "metadata": {},
     "output_type": "execute_result"
    }
   ],
   "source": [
    "data = data.combineByKey(\n",
    "    lambda number_of_answers: (number_of_answers, 1),\n",
    "    lambda current_result, number_of_answers: (current_result[0] + number_of_answers, current_result[1] + 1),\n",
    "    lambda first_result, second_result: (\n",
    "        first_result[0] + second_result[0],\n",
    "        first_result[1] + second_result[1]\n",
    "    )\n",
    ")\n",
    "data.take(30)"
   ]
  },
  {
   "cell_type": "code",
   "execution_count": 29,
   "metadata": {
    "pycharm": {
     "name": "#%%\n"
    }
   },
   "outputs": [
    {
     "data": {
      "text/plain": [
       "[(u'C#', (0, nan, 2, 3.5)),\n",
       " (u'Python', (0, nan, 1, 2.0)),\n",
       " (u'PHP', (2, 1.5, 0, nan)),\n",
       " (u'Java', (0, nan, 1, 0.0)),\n",
       " (u'Python', (1, 3.0, 0, nan)),\n",
       " (u'Java', (3, 2.0, 0, nan))]"
      ]
     },
     "execution_count": 29,
     "metadata": {},
     "output_type": "execute_result"
    }
   ],
   "source": [
    "NAN = float('nan')\n",
    "\n",
    "def divide(a, b):\n",
    "    return float(a) / b if b != 0 else NAN\n",
    "\n",
    "def calculate_statistics(line):\n",
    "    key, value = line\n",
    "    tag, is_solved = key\n",
    "    number_of_answers, number_of_questions = value\n",
    "\n",
    "    average = divide(number_of_answers, number_of_questions)\n",
    "\n",
    "    if is_solved:\n",
    "        return (tag, (number_of_questions, average, 0, NAN))\n",
    "    else:\n",
    "        return (tag, (0, NAN, number_of_questions, average))\n",
    "\n",
    "data = data.map(lambda x: calculate_statistics(x))\n",
    "data.take(30)"
   ]
  },
  {
   "cell_type": "code",
   "execution_count": 30,
   "metadata": {
    "pycharm": {
     "name": "#%%\n"
    }
   },
   "outputs": [
    {
     "data": {
      "text/plain": [
       "[(u'Python', (1, 3.0, 1, 2.0)),\n",
       " (u'C#', (0, nan, 2, 3.5)),\n",
       " (u'Java', (3, 2.0, 1, 0.0)),\n",
       " (u'PHP', (2, 1.5, 0, nan))]"
      ]
     },
     "execution_count": 30,
     "metadata": {},
     "output_type": "execute_result"
    }
   ],
   "source": [
    "import math\n",
    "def reduce_statistics(first_line, second_line):\n",
    "    first_line = [0.0 if math.isnan(elem) else elem for elem in first_line]\n",
    "    seconds_line = [0.0 if math.isnan(elem) else elem for elem in second_line]\n",
    "\n",
    "    return tuple([x + y for x, y in zip(first_line, seconds_line)])\n",
    "data = data.reduceByKey(lambda x,y: reduce_statistics(x, y))\n",
    "data.take(30)"
   ]
  },
  {
   "cell_type": "code",
   "execution_count": 31,
   "metadata": {
    "pycharm": {
     "name": "#%%\n"
    }
   },
   "outputs": [
    {
     "data": {
      "text/plain": [
       "[(u'Java', (3, 2.0, 1, 0.0)),\n",
       " (u'PHP', (2, 1.5, 0, nan)),\n",
       " (u'Python', (1, 3.0, 1, 2.0)),\n",
       " (u'C#', (0, nan, 2, 3.5))]"
      ]
     },
     "execution_count": 31,
     "metadata": {},
     "output_type": "execute_result"
    }
   ],
   "source": [
    "data = data.sortBy(lambda x: -x[1][0])\n",
    "data.take(30)\n"
   ]
  }
 ],
 "metadata": {
  "kernelspec": {
   "display_name": "Python 2",
   "language": "python",
   "name": "python2"
  },
  "language_info": {
   "codemirror_mode": {
    "name": "ipython",
    "version": 2
   },
   "file_extension": ".py",
   "mimetype": "text/x-python",
   "name": "python",
   "nbconvert_exporter": "python",
   "pygments_lexer": "ipython2",
   "version": "2.7.5"
  }
 },
 "nbformat": 4,
 "nbformat_minor": 1
}