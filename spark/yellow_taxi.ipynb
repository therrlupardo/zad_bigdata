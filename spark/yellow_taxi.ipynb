{
 "cells": [
  {
   "cell_type": "markdown",
   "source": [
    "# Yellow Taxi Trip"
   ],
   "metadata": {
    "collapsed": false
   }
  },
  {
   "cell_type": "code",
   "execution_count": 182,
   "outputs": [],
   "source": [
    "import findspark\n",
    "\n",
    "findspark.init()"
   ],
   "metadata": {
    "collapsed": false,
    "pycharm": {
     "name": "#%%\n"
    }
   }
  },
  {
   "cell_type": "code",
   "execution_count": 183,
   "outputs": [],
   "source": [
    "import pyspark\n",
    "\n",
    "sc = pyspark.SparkContext.getOrCreate()\n",
    "spark = pyspark.SQLContext(sc)"
   ],
   "metadata": {
    "collapsed": false,
    "pycharm": {
     "name": "#%%\n"
    }
   }
  },
  {
   "cell_type": "code",
   "execution_count": 184,
   "outputs": [],
   "source": [
    "LLC_DATASET = '/user/adampap/final/LLC'\n",
    "VERIFONE_DATASET = '/user/adampap/final/VeriFone'\n",
    "data = sc.textFile(VERIFONE_DATASET)"
   ],
   "metadata": {
    "collapsed": false,
    "pycharm": {
     "name": "#%%\n"
    }
   }
  },
  {
   "cell_type": "markdown",
   "source": [
    "First task"
   ],
   "metadata": {
    "collapsed": false
   }
  },
  {
   "cell_type": "code",
   "execution_count": 185,
   "outputs": [],
   "source": [
    "from datetime import datetime\n",
    "\n",
    "def initial_convert(row):\n",
    "    splitted = row.split(',')\n",
    "    date = datetime.strptime(splitted[2], '%Y-%m-%d %H:%M:%S')\n",
    "    tip = splitted[13]\n",
    "    return (date.strftime('%A'), date.hour), (float(tip), 1)\n",
    "\n",
    "def calculate_avg(x):\n",
    "    key, value = x\n",
    "    return key, value[0]/value[1]"
   ],
   "metadata": {
    "collapsed": false,
    "pycharm": {
     "name": "#%%\n"
    }
   }
  },
  {
   "cell_type": "code",
   "execution_count": 186,
   "outputs": [
    {
     "data": {
      "text/plain": "[(('Friday', 0), 3.2483333333333326),\n (('Friday', 1), 3.082613636363635),\n (('Friday', 2), 3.033095238095238),\n (('Friday', 3), 2.99695652173913),\n (('Friday', 4), 4.024399999999999),\n (('Friday', 5), 2.762352941176471),\n (('Friday', 6), 2.1794047619047623),\n (('Friday', 7), 2.295478723404255),\n (('Friday', 8), 2.187718631178707),\n (('Friday', 9), 2.4455805243445687),\n (('Friday', 10), 2.540093023255814),\n (('Friday', 11), 2.463776595744681),\n (('Friday', 12), 2.664008810572687),\n (('Friday', 13), 2.4772857142857143),\n (('Friday', 14), 2.440964912280702),\n (('Friday', 15), 2.4228755364806864),\n (('Friday', 16), 2.7287242798353915),\n (('Friday', 17), 2.757255639097744),\n (('Friday', 18), 2.431467889908257),\n (('Friday', 19), 2.5324223602484484),\n (('Friday', 20), 2.6170462633451943),\n (('Friday', 21), 2.7630241935483872),\n (('Friday', 22), 2.6962660944206),\n (('Friday', 23), 2.807245762711864)]"
     },
     "execution_count": 186,
     "metadata": {},
     "output_type": "execute_result"
    }
   ],
   "source": [
    "data = data.map(lambda x: initial_convert(x))\\\n",
    "    .reduceByKey(lambda x,y: (float(x[0])+float(y[0]), x[1]+y[1]))\\\n",
    "    .map(lambda x: calculate_avg(x))\n",
    "\n",
    "data.filter(lambda x: x[0][0] == 'Friday')\\\n",
    "    .sortBy(lambda x: x[0][1])\\\n",
    "    .take(30)"
   ],
   "metadata": {
    "collapsed": false,
    "pycharm": {
     "name": "#%%\n"
    }
   }
  },
  {
   "cell_type": "markdown",
   "source": [
    "Second task"
   ],
   "metadata": {
    "collapsed": false
   }
  },
  {
   "cell_type": "code",
   "execution_count": 187,
   "outputs": [],
   "source": [
    "def change(x):\n",
    "    (day, hour), tip = x\n",
    "    return hour, (day, tip)\n",
    "\n",
    "def to_list(x):\n",
    "    return [x]\n",
    "\n",
    "\n",
    "def append(x, y):\n",
    "    x.append(y)\n",
    "    return x\n",
    "\n",
    "\n",
    "def extend(x, y):\n",
    "    x.extend(y)\n",
    "    return x\n",
    "\n",
    "def take_highest_avg(x):\n",
    "    hour, days = x\n",
    "    highest = sorted(days, key=lambda day: day[1])\n",
    "    return hour, highest[-1]"
   ],
   "metadata": {
    "collapsed": false,
    "pycharm": {
     "name": "#%%\n"
    }
   }
  },
  {
   "cell_type": "code",
   "execution_count": 188,
   "outputs": [
    {
     "data": {
      "text/plain": "[(0, ('Thursday', 3.4306756756756767)),\n (1, ('Tuesday', 3.65375)),\n (2, ('Monday', 3.2804347826086957)),\n (3, ('Monday', 4.331538461538462)),\n (4, ('Thursday', 4.253636363636364)),\n (5, ('Saturday', 5.056111111111111)),\n (6, ('Saturday', 3.909767441860465)),\n (7, ('Sunday', 3.3388461538461534)),\n (8, ('Sunday', 2.5993827160493823)),\n (9, ('Monday', 2.4695454545454547)),\n (10, ('Tuesday', 2.8058874458874454)),\n (11, ('Tuesday', 2.6736186770428017)),\n (12, ('Wednesday', 2.7974911660777373)),\n (13, ('Thursday', 3.2026938775510208)),\n (14, ('Thursday', 2.745463917525774)),\n (15, ('Sunday', 2.800684931506848)),\n (16, ('Wednesday', 3.0968897637795263)),\n (17, ('Thursday', 2.8332110091743115)),\n (18, ('Saturday', 3.1996389891696753)),\n (19, ('Sunday', 2.6241304347826087)),\n (20, ('Monday', 2.663015873015873)),\n (21, ('Sunday', 3.1792982456140355)),\n (22, ('Monday', 3.2133136094674555)),\n (23, ('Sunday', 3.5758139534883724))]"
     },
     "execution_count": 188,
     "metadata": {},
     "output_type": "execute_result"
    }
   ],
   "source": [
    "data = data.map(lambda x: change(x))\\\n",
    "    .combineByKey(to_list, append, extend)\\\n",
    "    .map(lambda x: take_highest_avg(x))\n",
    "data.sortByKey().take(30)"
   ],
   "metadata": {
    "collapsed": false,
    "pycharm": {
     "name": "#%%\n"
    }
   }
  }
 ],
 "metadata": {
  "kernelspec": {
   "name": "python2",
   "language": "python",
   "display_name": "Python 2"
  },
  "language_info": {
   "codemirror_mode": {
    "name": "ipython",
    "version": 2
   },
   "file_extension": ".py",
   "mimetype": "text/x-python",
   "name": "python",
   "nbconvert_exporter": "python",
   "pygments_lexer": "ipython2",
   "version": "2.7.6"
  }
 },
 "nbformat": 4,
 "nbformat_minor": 0
}