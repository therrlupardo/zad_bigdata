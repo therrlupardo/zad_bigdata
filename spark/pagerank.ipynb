{
 "cells": [
  {
   "cell_type": "markdown",
   "metadata": {
    "collapsed": true,
    "pycharm": {
     "name": "#%% md\n"
    }
   },
   "source": [
    "# PageRank"
   ]
  },
  {
   "cell_type": "code",
   "execution_count": 153,
   "outputs": [],
   "source": [
    "import findspark\n",
    "\n",
    "findspark.init()"
   ],
   "metadata": {
    "collapsed": false,
    "pycharm": {
     "name": "#%%\n"
    }
   }
  },
  {
   "cell_type": "code",
   "execution_count": 154,
   "outputs": [],
   "source": [
    "import pyspark\n",
    "\n",
    "sc = pyspark.SparkContext.getOrCreate()\n",
    "spark = pyspark.SQLContext(sc)"
   ],
   "metadata": {
    "collapsed": false,
    "pycharm": {
     "name": "#%%\n"
    }
   }
  },
  {
   "cell_type": "code",
   "execution_count": 155,
   "outputs": [],
   "source": [
    "links = [\"A: B C D\", \"B: A D\", \"C: A\", \"D: B C\"]\n",
    "deadEnds = [\"A: B C D\", \"B: A D\", \"C:\", \"D: B C\"]\n",
    "spiderTraps = [\"A: B C D\", \"B: A D\", \"C: C\", \"D: B C\"]\n"
   ],
   "metadata": {
    "collapsed": false,
    "pycharm": {
     "name": "#%%\n"
    }
   }
  },
  {
   "cell_type": "code",
   "execution_count": 156,
   "outputs": [],
   "source": [
    "data = sc.parallelize(deadEnds)\n",
    "initialRank = 1.0 / data.count()\n",
    "beta = 1.0\n",
    "ITERATIONS = 15"
   ],
   "metadata": {
    "collapsed": false,
    "pycharm": {
     "name": "#%%\n"
    }
   }
  },
  {
   "cell_type": "code",
   "execution_count": 157,
   "outputs": [],
   "source": [
    "def convert(line):\n",
    "    key, neighbours = line.split(':')\n",
    "    if neighbours != '':\n",
    "        neighbours = neighbours.lstrip().split(' ')\n",
    "    else:\n",
    "        neighbours = []\n",
    "    return key, (neighbours, initialRank)\n"
   ],
   "metadata": {
    "collapsed": false,
    "pycharm": {
     "name": "#%%\n"
    }
   }
  },
  {
   "cell_type": "code",
   "execution_count": 158,
   "outputs": [],
   "source": [
    "def extract_probabilities(line):\n",
    "    key, (neighbours, rank) = line\n",
    "    neighbours_chances = [(neighbour, rank / len(neighbours)) for neighbour in neighbours]\n",
    "    output = [(key, (neighbours, 0))] + neighbours_chances\n",
    "    return output"
   ],
   "metadata": {
    "collapsed": false,
    "pycharm": {
     "name": "#%%\n"
    }
   }
  },
  {
   "cell_type": "code",
   "execution_count": 159,
   "outputs": [],
   "source": [
    "def is_main_part(line):\n",
    "    return type(line) is not float\n",
    "\n",
    "def sum_probabilities(first_line, second_line):\n",
    "    if second_line is None:\n",
    "        return first_line\n",
    "\n",
    "    if is_main_part(first_line):\n",
    "        neighbours, rank = first_line\n",
    "        chance = second_line\n",
    "        return neighbours, rank + chance\n",
    "    elif is_main_part(second_line):\n",
    "        neighbours, rank = second_line\n",
    "        chance = first_line\n",
    "        return neighbours, rank + chance\n",
    "    else:\n",
    "        return first_line + second_line"
   ],
   "metadata": {
    "collapsed": false,
    "pycharm": {
     "name": "#%%\n"
    }
   }
  },
  {
   "cell_type": "code",
   "execution_count": 160,
   "outputs": [],
   "source": [
    "def taxation(line):\n",
    "    key, (neighbours, rank) = line\n",
    "    rank = beta * rank + (1-beta)*initialRank\n",
    "    return key, (neighbours, rank)"
   ],
   "metadata": {
    "collapsed": false,
    "pycharm": {
     "name": "#%%\n"
    }
   }
  },
  {
   "cell_type": "code",
   "execution_count": 161,
   "outputs": [
    {
     "data": {
      "text/plain": "[('B', (['A', 'D'], 0.00240619428600049)),\n ('D', (['B', 'C'], 0.00240619428600049)),\n ('C', ([], 0.00240619428600049)),\n ('A', (['B', 'C', 'D'], 0.001650987720184256))]"
     },
     "execution_count": 161,
     "metadata": {},
     "output_type": "execute_result"
    }
   ],
   "source": [
    "data = data.map(lambda x: convert(x))\n",
    "for _ in range(0, ITERATIONS):\n",
    "    data = data.map(lambda x: extract_probabilities(x))\\\n",
    "        .flatMap(lambda t: [item for item in t])\\\n",
    "        .reduceByKey(lambda x, y: sum_probabilities(x, y))\\\n",
    "        .map(lambda x: taxation(x))\n",
    "\n",
    "\n",
    "data = data.sortBy(lambda pair: -pair[1][1])\n",
    "data.collect()"
   ],
   "metadata": {
    "collapsed": false,
    "pycharm": {
     "name": "#%%\n"
    }
   }
  }
 ],
 "metadata": {
  "kernelspec": {
   "name": "python2",
   "language": "python",
   "display_name": "Python 2"
  },
  "language_info": {
   "codemirror_mode": {
    "name": "ipython",
    "version": 2
   },
   "file_extension": ".py",
   "mimetype": "text/x-python",
   "name": "python",
   "nbconvert_exporter": "python",
   "pygments_lexer": "ipython2",
   "version": "2.7.6"
  }
 },
 "nbformat": 4,
 "nbformat_minor": 0
}