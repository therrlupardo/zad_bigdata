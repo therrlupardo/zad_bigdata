{
 "cells": [
  {
   "cell_type": "markdown",
   "metadata": {
    "collapsed": true,
    "pycharm": {
     "name": "#%% md\n"
    }
   },
   "source": [
    "# Word groups"
   ]
  },
  {
   "cell_type": "code",
   "execution_count": 211,
   "outputs": [],
   "source": [
    "import findspark\n",
    "\n",
    "findspark.init()"
   ],
   "metadata": {
    "collapsed": false,
    "pycharm": {
     "name": "#%%\n"
    }
   }
  },
  {
   "cell_type": "code",
   "execution_count": 212,
   "outputs": [],
   "source": [
    "import pyspark\n",
    "\n",
    "sc = pyspark.SparkContext.getOrCreate()\n",
    "spark = pyspark.SQLContext(sc)"
   ],
   "metadata": {
    "collapsed": false,
    "pycharm": {
     "name": "#%%\n"
    }
   }
  },
  {
   "cell_type": "code",
   "execution_count": 213,
   "outputs": [],
   "source": [
    "def split(line):\n",
    "    for d in DELIMITERS:\n",
    "        line = line.replace(d, ' ')\n",
    "    return line.split()\n",
    "\n",
    "\n",
    "def convert_to_lexicographical_tuple(element):\n",
    "    return ''.join(sorted(element)), element\n",
    "\n",
    "\n",
    "def to_list(x):\n",
    "    return [x]\n",
    "\n",
    "\n",
    "def append(x, y):\n",
    "    x.append(y)\n",
    "    return x\n",
    "\n",
    "\n",
    "def extend(x, y):\n",
    "    x.extend(y)\n",
    "    return x\n",
    "\n",
    "\n",
    "def convert(element):\n",
    "    _, permutations = element\n",
    "    unique = sorted(list(set(permutations)))\n",
    "    return len(unique), len(permutations), unique"
   ],
   "metadata": {
    "collapsed": false,
    "pycharm": {
     "name": "#%%\n"
    }
   }
  },
  {
   "cell_type": "code",
   "execution_count": 214,
   "outputs": [],
   "source": [
    "FRANKENSTEIN_DATASET = '/user/adampap/Frankenstein'\n",
    "TEST_DATASET = '/user/adampap/tutorial'\n",
    "DELIMITERS = \" \\t,;.?!-:@[](){}_*/'\"\n",
    "SKIP_WORDS = ['the', 'a', 'an', 'and', 'of', 'to', 'in', 'am', 'is', 'are', 'at', 'not']"
   ],
   "metadata": {
    "collapsed": false,
    "pycharm": {
     "name": "#%%\n"
    }
   }
  },
  {
   "cell_type": "code",
   "execution_count": 215,
   "outputs": [
    {
     "data": {
      "text/plain": "[(4, 155, [u'ist', u'its', u'sit', u'tis']),\n (4, 21, [u'rowse', u'sowre', u'swore', u'worse']),\n (4, 16, [u'post', u'pots', u'spot', u'stop']),\n (4, 9, [u'rost', u'rots', u'sort', u'stor']),\n (3, 837, [u'hits', u'sith', u'this']),\n (3, 254, [u'now', u'own', u'won']),\n (3, 110, [u'file', u'flie', u'life']),\n (3, 109, [u'shut', u'thus', u'tush']),\n (3, 50, [u'part', u'rapt', u'trap']),\n (3, 26, [u'least', u'stale', u'tales']),\n (3, 23, [u'amble', u'balme', u'blame']),\n (3, 22, [u'akes', u'aske', u'sake']),\n (3, 21, [u'stake', u'takes', u'taske']),\n (3, 21, [u'perus', u'purse', u'super']),\n (3, 13, [u'amend', u'damne', u'named']),\n (3, 12, [u'depart', u'parted', u'prated']),\n (3, 11, [u'dire', u'drie', u'ride']),\n (3, 11, [u'diuest', u'duties', u'suited']),\n (3, 9, [u'anger', u'enrag', u'range']),\n (3, 9, [u'Fates', u'Feast', u'Feats']),\n (3, 9, [u'hower', u'howre', u'whore']),\n (3, 8, [u'aside', u'daies', u'saide']),\n (3, 7, [u'giued', u'guide', u'iudge']),\n (3, 7, [u'lest', u'lets', u'tels']),\n (3, 6, [u'eats', u'sate', u'seat']),\n (3, 6, [u'drugge', u'grudge', u'rugged']),\n (3, 5, [u'desir', u'dries', u'rides']),\n (3, 5, [u'diet', u'tide', u'tied']),\n (3, 4, [u'slipt', u'spilt', u'split']),\n (3, 4, [u'rowe', u'woer', u'wore']),\n (3, 4, [u'esteem', u'meetes', u'teemes']),\n (3, 3, [u'dealing', u'iangled', u'leading'])]"
     },
     "execution_count": 215,
     "metadata": {},
     "output_type": "execute_result"
    }
   ],
   "source": [
    "sc.textFile(TEST_DATASET)\\\n",
    "    .map(lambda x: split(x))\\\n",
    "    .flatMap(lambda x: x)\\\n",
    "    .filter(lambda x: x.lower() not in SKIP_WORDS and x != '')\\\n",
    "    .map(lambda x: convert_to_lexicographical_tuple(x))\\\n",
    "    .combineByKey(to_list, append, extend)\\\n",
    "    .map(lambda x: convert(x))\\\n",
    "    .sortBy(lambda x: (x[0], x[1]), ascending=False)\\\n",
    "    .take(32)"
   ],
   "metadata": {
    "collapsed": false,
    "pycharm": {
     "name": "#%%\n"
    }
   }
  }
 ],
 "metadata": {
  "kernelspec": {
   "name": "python2",
   "language": "python",
   "display_name": "Python 2"
  },
  "language_info": {
   "codemirror_mode": {
    "name": "ipython",
    "version": 2
   },
   "file_extension": ".py",
   "mimetype": "text/x-python",
   "name": "python",
   "nbconvert_exporter": "python",
   "pygments_lexer": "ipython2",
   "version": "2.7.6"
  }
 },
 "nbformat": 4,
 "nbformat_minor": 0
}